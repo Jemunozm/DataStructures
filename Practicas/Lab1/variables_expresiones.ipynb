{
 "cells": [
  {
   "cell_type": "markdown",
   "metadata": {},
   "source": [
    "**Programa 1 – Variables, expresiones y estructuras de control:** Diseñe un programa que le pida al usuario\n",
    "ingresar n números enteros, donde n también es ingresado por el usuario. El programa debe calcular (i) el valor\n",
    "máximo, (II) el valor mínimo, (III) la suma de los enteros ingresados y (IV) el valor promedio."
   ]
  },
  {
   "cell_type": "code",
   "execution_count": 21,
   "metadata": {},
   "outputs": [],
   "source": [
    "def generar_lista():\n",
    "    cantidad_enteros = int(\n",
    "        input(\"Ingrese la cantidad de números enteros que desea ingresar: \")\n",
    "    )\n",
    "    lista_enteros = []\n",
    "    for i in range(cantidad_enteros):\n",
    "        numero = int(input(\"Ingrese un número entero: \"))\n",
    "        lista_enteros.append(numero)\n",
    "    return lista_enteros\n",
    "\n",
    "\n",
    "def valor_maximo(lista):\n",
    "    maximo = lista[0]\n",
    "    for i in lista:\n",
    "        if i > maximo:\n",
    "            maximo = i\n",
    "\n",
    "\n",
    "def valor_minimo(lista):\n",
    "    minimo = lista[0]\n",
    "    for i in lista:\n",
    "        if i < minimo:\n",
    "            minimo = i\n",
    "    return minimo\n",
    "\n",
    "\n",
    "def suma_enteros(lista):\n",
    "    suma = 0\n",
    "    for i in lista:\n",
    "        suma += i\n",
    "    return suma\n",
    "\n",
    "\n",
    "def valor_promedio(lista):\n",
    "    suma = suma_enteros(lista)\n",
    "    longitud_lista = 0\n",
    "    for i in lista:\n",
    "        longitud_lista += 1\n",
    "    promedio = suma / longitud_lista\n",
    "    return promedio"
   ]
  },
  {
   "cell_type": "markdown",
   "metadata": {},
   "source": [
    "**Programa 2 – Archivos y cadenas:** Diseñe un programa que lea el archivo de texto test_pr2.txt (archivo adjunto a\n",
    "esta guía) y cuente cuantas veces se repite la palabra “en” en el párrafo leído. Tenga en cuenta que el párrafo esta\n",
    "dividido en varias líneas. (No modifique el archivo de texto)."
   ]
  },
  {
   "cell_type": "code",
   "execution_count": 22,
   "metadata": {},
   "outputs": [
    {
     "data": {
      "text/plain": [
       "6"
      ]
     },
     "execution_count": 22,
     "metadata": {},
     "output_type": "execute_result"
    }
   ],
   "source": [
    "def lectura_archivo(path):\n",
    "    with open(path, \"r\") as archivo:\n",
    "        lineas = [linea.strip() for linea in archivo]\n",
    "        \n",
    "    return lineas\n",
    "\n",
    "\n",
    "def split_linea(lineas, palabra_buscada):\n",
    "    contador_palabra = 0\n",
    "    for linea in lineas:\n",
    "        for palabra in linea.split():\n",
    "            if palabra == palabra_buscada:\n",
    "                contador_palabra += 1\n",
    "    return contador_palabra\n",
    "\n",
    "\n",
    "split_linea(\n",
    "    lectura_archivo(\n",
    "        \"/home/juliangallegog/Documents/Courses/DSA/Prácticas/Lab1/test_pr2.txt\"\n",
    "    ),\n",
    "    \"en\"\n",
    ")"
   ]
  },
  {
   "cell_type": "markdown",
   "metadata": {},
   "source": [
    "**Programa 3 – Tablas y diccionarios:** Diseñe un programa que realice el control de acceso a una aplicación. El\n",
    "programa almacena los usuarios y contraseñas mostrados en la siguiente tabla. El programa solicita al usuario\n",
    "ingresar su nombre y contraseña. Si el usuario introduce de forma correcta los datos, el programa muestra en\n",
    "pantalla el mensaje “Acceso permitido”, en caso contrario indicara “Datos incorrectos”. Si el usuario se equivoca tres\n",
    "veces consecutivas el programa indicara “Lo siento, su acceso no es permitido”. "
   ]
  },
  {
   "cell_type": "code",
   "execution_count": 31,
   "metadata": {},
   "outputs": [
    {
     "name": "stdout",
     "output_type": "stream",
     "text": [
      "Datos incorrectos\n",
      "Datos incorrectos\n",
      "Acceso permitido\n"
     ]
    }
   ],
   "source": [
    "\n",
    "def login():\n",
    "    \n",
    "    diccionario_usarios = {\n",
    "    \"Juan1223\": \"J12an*.\",\n",
    "    \"Maria2345\": \"M23a*.\",\n",
    "    \"Pablo1459\": \"P14o*.\",\n",
    "    \"Ana3456\": \"A34a*.\",}\n",
    "    \n",
    "    conteo_intentos = 0\n",
    "    while conteo_intentos < 3:\n",
    "        try:\n",
    "            usuario = str(input(\"Ingrese su usuario:\"))\n",
    "            password = str(input(\"Ingrese su contraseña\"))\n",
    "            if (usuario, password) in diccionario_usarios.items():\n",
    "                return print(\"Acceso permitido\")\n",
    "            else:\n",
    "                print(\"Datos incorrectos\")\n",
    "                conteo_intentos += 1\n",
    "        except:\n",
    "            return print(\"Lo siento, su acceso no está permitido \")\n",
    "    \n",
    "    print(\"Lo siento, su acceso no está permitido \")\n",
    "    \n",
    "login()\n",
    "            "
   ]
  }
 ],
 "metadata": {
  "kernelspec": {
   "display_name": "Python 3",
   "language": "python",
   "name": "python3"
  },
  "language_info": {
   "codemirror_mode": {
    "name": "ipython",
    "version": 3
   },
   "file_extension": ".py",
   "mimetype": "text/x-python",
   "name": "python",
   "nbconvert_exporter": "python",
   "pygments_lexer": "ipython3",
   "version": "3.10.12"
  }
 },
 "nbformat": 4,
 "nbformat_minor": 2
}
