{
 "cells": [
  {
   "cell_type": "markdown",
   "metadata": {},
   "source": [
    "### Punto 1.\n"
   ]
  },
  {
   "cell_type": "code",
   "execution_count": 25,
   "metadata": {},
   "outputs": [],
   "source": [
    "def multiplo(n, m):\n",
    "    n = int(n)\n",
    "    m = int(m)\n",
    "\n",
    "    while n >= m:\n",
    "        n = n - m\n",
    "    if n == 0:\n",
    "        return \"n es múltiplo de m\"\n",
    "    else:\n",
    "        return \"n no es múltiplo de m\""
   ]
  },
  {
   "cell_type": "markdown",
   "metadata": {},
   "source": [
    "### Punto 2.\n"
   ]
  },
  {
   "cell_type": "code",
   "execution_count": 26,
   "metadata": {},
   "outputs": [],
   "source": [
    "def suma_enteros_menores(n):\n",
    "    n = int(n)\n",
    "    suma = 0\n",
    "\n",
    "    for i in range(0, n - 1):\n",
    "        if i % 2 != 0:\n",
    "            suma += i\n",
    "    return suma"
   ]
  },
  {
   "cell_type": "markdown",
   "metadata": {},
   "source": [
    "### Punto 3. "
   ]
  },
  {
   "cell_type": "code",
   "execution_count": 27,
   "metadata": {},
   "outputs": [],
   "source": [
    "def adivine_numero(n):\n",
    "    n = int(n)\n",
    "    entrada = int(input())\n",
    "    acumulador = entrada\n",
    "    while entrada != n:\n",
    "        entrada = int(input())\n",
    "        acumulador += entrada   \n",
    "        \n",
    "    return f\"El número era {n}. La suma de números intentados es {acumulador}\""
   ]
  }
 ],
 "metadata": {
  "kernelspec": {
   "display_name": "Python 3",
   "language": "python",
   "name": "python3"
  },
  "language_info": {
   "codemirror_mode": {
    "name": "ipython",
    "version": 3
   },
   "file_extension": ".py",
   "mimetype": "text/x-python",
   "name": "python",
   "nbconvert_exporter": "python",
   "pygments_lexer": "ipython3",
   "version": "3.10.12"
  }
 },
 "nbformat": 4,
 "nbformat_minor": 2
}
